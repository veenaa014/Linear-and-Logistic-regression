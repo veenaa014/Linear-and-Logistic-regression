{
 "cells": [
  {
   "cell_type": "code",
   "execution_count": 103,
   "metadata": {},
   "outputs": [],
   "source": [
    "from statistics import mean\n",
    "import numpy as np\n",
    "import matplotlib.pyplot as plt\n",
    "from matplotlib import style\n",
    "style.use('fivethirtyeight')\n",
    "import random"
   ]
  },
  {
   "cell_type": "markdown",
   "metadata": {},
   "source": [
    "# beginning with small sample dataset"
   ]
  },
  {
   "cell_type": "code",
   "execution_count": 105,
   "metadata": {},
   "outputs": [],
   "source": [
    "# xs = np.array([1,2,3,4,5,6], dtype = np.float64)\n",
    "# ys = np.array([5,4,6,5,6,7], dtype = np.float64)\n",
    "\n",
    "# plt.scatter(xs, ys)\n",
    "# plt.show()"
   ]
  },
  {
   "cell_type": "code",
   "execution_count": 106,
   "metadata": {},
   "outputs": [],
   "source": [
    "# m =[ x'.y' - (xy)'] / [ (x')^2 - (x^2)']"
   ]
  },
  {
   "cell_type": "code",
   "execution_count": 107,
   "metadata": {},
   "outputs": [],
   "source": [
    "def best_fit_slope_int(xs, ys):\n",
    "    m = (((mean(xs)*mean(ys)) - mean(xs*ys))/\n",
    "        ((mean(xs)**2)- mean(xs**2)))\n",
    "    b = mean(ys) - m*mean(xs)        \n",
    "    return m,b"
   ]
  },
  {
   "cell_type": "code",
   "execution_count": 108,
   "metadata": {},
   "outputs": [],
   "source": [
    "m,b = best_fit_slope_int(xs, ys)"
   ]
  },
  {
   "cell_type": "code",
   "execution_count": 109,
   "metadata": {},
   "outputs": [
    {
     "data": {
      "text/plain": [
       "2.1847091932457783"
      ]
     },
     "execution_count": 109,
     "metadata": {},
     "output_type": "execute_result"
    }
   ],
   "source": [
    "m #best fit slope"
   ]
  },
  {
   "cell_type": "code",
   "execution_count": 110,
   "metadata": {},
   "outputs": [
    {
     "data": {
      "text/plain": [
       "0.5231707317073244"
      ]
     },
     "execution_count": 110,
     "metadata": {},
     "output_type": "execute_result"
    }
   ],
   "source": [
    "b #best fit line"
   ]
  },
  {
   "cell_type": "code",
   "execution_count": 111,
   "metadata": {},
   "outputs": [],
   "source": [
    "regression_line = [m*x + b for x in xs]"
   ]
  },
  {
   "cell_type": "code",
   "execution_count": 91,
   "metadata": {},
   "outputs": [
    {
     "data": {
      "image/png": "[encoded data removed]",
      "text/plain": [
       "<Figure size 432x288 with 1 Axes>"
      ]
     },
     "metadata": {},
     "output_type": "display_data"
    }
   ],
   "source": [
    "# two plots one scatter for the points and\n",
    "#one line for the regression line y predicted points\n",
    "plt.scatter(xs, ys)\n",
    "plt.plot(xs, regression_line)\n",
    "plt.show()"
   ]
  },
  {
   "cell_type": "code",
   "execution_count": 93,
   "metadata": {},
   "outputs": [],
   "source": [
    "predict_x = 8\n",
    "predict_y = m*predict_x + b"
   ]
  },
  {
   "cell_type": "code",
   "execution_count": 94,
   "metadata": {},
   "outputs": [
    {
     "data": {
      "image/png": "[encoded data removed]",
      "text/plain": [
       "<Figure size 432x288 with 1 Axes>"
      ]
     },
     "metadata": {},
     "output_type": "display_data"
    }
   ],
   "source": [
    "plt.scatter(xs, ys)\n",
    "plt.scatter(predict_x, predict_y, color = 'red')\n",
    "plt.plot(xs, regression_line)\n",
    "plt.show()"
   ]
  },
  {
   "cell_type": "markdown",
   "metadata": {},
   "source": [
    "# R**2"
   ]
  },
  {
   "cell_type": "markdown",
   "metadata": {},
   "source": [
    "Calculating r**2 ie coefficient of determination.\n",
    "It is the value of how good of a fit is our best fit line"
   ]
  },
  {
   "cell_type": "code",
   "execution_count": 83,
   "metadata": {},
   "outputs": [],
   "source": [
    "def squared_error(ys_orig, ys_line):\n",
    "    return sum((ys_orig - ys_line)**2)"
   ]
  },
  {
   "cell_type": "code",
   "execution_count": 84,
   "metadata": {},
   "outputs": [],
   "source": [
    "def coefficientOfDetermination(ys_orig,ys_line):\n",
    "    y_mean_line= [mean(ys_orig) for y in ys_orig]\n",
    "    squared_error_regr = squared_error(ys_orig, ys_line)\n",
    "    squared_error_y_mean = squared_error(ys_orig, y_mean_line)\n",
    "    return 1 - (squared_error_regr/ squared_error_y_mean)"
   ]
  },
  {
   "cell_type": "code",
   "execution_count": 96,
   "metadata": {},
   "outputs": [
    {
     "data": {
      "text/plain": [
       "0.4343435843734905"
      ]
     },
     "execution_count": 96,
     "metadata": {},
     "output_type": "execute_result"
    }
   ],
   "source": [
    "r_squared = coefficientOfDetermination(ys, regression_line )\n",
    "r_squared"
   ]
  },
  {
   "cell_type": "markdown",
   "metadata": {},
   "source": [
    "# Testing"
   ]
  },
  {
   "cell_type": "code",
   "execution_count": 56,
   "metadata": {},
   "outputs": [],
   "source": [
    "def create_dataset(hm, variance, step=2, correlation= False):\n",
    "    val = 1\n",
    "    ys = []\n",
    "    for i in range(hm):\n",
    "        y = val + random.randrange(-variance, variance)\n",
    "        ys.append(y)\n",
    "        if correlation and correlation == 'pos':\n",
    "            val += step\n",
    "        elif correlation and correlation == 'neg':\n",
    "            val -= step\n",
    "    xs = [i for i in range(len(ys))]\n",
    "    return np.array(xs, dtype=np.float64),np.array(ys, dtype=np.float64) "
   ]
  },
  {
   "cell_type": "code",
   "execution_count": 71,
   "metadata": {},
   "outputs": [],
   "source": [
    "xs, ys = create_dataset(40, 80, 2, correlation = False)"
   ]
  },
  {
   "cell_type": "code",
   "execution_count": 101,
   "metadata": {},
   "outputs": [
    {
     "name": "stdout",
     "output_type": "stream",
     "text": [
      "2.1847091932457783\n",
      "0.5231707317073244\n"
     ]
    },
    {
     "data": {
      "image/png": "[encoded data removed]",
      "text/plain": [
       "<Figure size 432x288 with 1 Axes>"
      ]
     },
     "metadata": {},
     "output_type": "display_data"
    },
    {
     "data": {
      "text/plain": [
       "0.5348733363451776"
      ]
     },
     "execution_count": 101,
     "metadata": {},
     "output_type": "execute_result"
    }
   ],
   "source": [
    "xs, ys = create_dataset(40, 40, 2, correlation = 'pos')\n",
    "m,b = best_fit_slope_int(xs, ys)\n",
    "\n",
    "print(m)#best fit slope\n",
    "\n",
    "print(b) #best fit line\n",
    "\n",
    "regression_line = [m*x + b for x in xs]\n",
    "\n",
    "# two plots one scatter for the points and\n",
    "#one line for the regression line y predicted points\n",
    "plt.scatter(xs, ys)\n",
    "plt.plot(xs, regression_line)\n",
    "plt.show()\n",
    "r_squared = coefficientOfDetermination(ys, regression_line )\n",
    "r_squared"
   ]
  },
  {
   "cell_type": "code",
   "execution_count": 99,
   "metadata": {},
   "outputs": [
    {
     "name": "stdout",
     "output_type": "stream",
     "text": [
      "2.103001876172609\n",
      "-3.208536585365877\n"
     ]
    },
    {
     "data": {
      "image/png": "[encoded data removed]",
      "text/plain": [
       "<Figure size 432x288 with 1 Axes>"
      ]
     },
     "metadata": {},
     "output_type": "display_data"
    },
    {
     "data": {
      "text/plain": [
       "0.9576730706423379"
      ]
     },
     "execution_count": 99,
     "metadata": {},
     "output_type": "execute_result"
    }
   ],
   "source": [
    "xs, ys = create_dataset(40, 10, 2, correlation = 'pos')\n",
    "m,b = best_fit_slope_int(xs, ys)\n",
    "\n",
    "print(m)#best fit slope\n",
    "\n",
    "print(b) #best fit line\n",
    "\n",
    "regression_line = [m*x + b for x in xs]\n",
    "\n",
    "# two plots one scatter for the points and\n",
    "#one line for the regression line y predicted points\n",
    "plt.scatter(xs, ys)\n",
    "plt.plot(xs, regression_line)\n",
    "plt.show()\n",
    "r_squared = coefficientOfDetermination(ys, regression_line )\n",
    "r_squared"
   ]
  },
  {
   "cell_type": "code",
   "execution_count": 100,
   "metadata": {},
   "outputs": [
    {
     "name": "stdout",
     "output_type": "stream",
     "text": [
      "1.2996247654784236\n",
      "29.00731707317074\n"
     ]
    },
    {
     "data": {
      "image/png": "[encoded data removed]",
      "text/plain": [
       "<Figure size 432x288 with 1 Axes>"
      ]
     },
     "metadata": {},
     "output_type": "display_data"
    },
    {
     "data": {
      "text/plain": [
       "0.10824073206280838"
      ]
     },
     "execution_count": 100,
     "metadata": {},
     "output_type": "execute_result"
    }
   ],
   "source": [
    "xs, ys = create_dataset(40, 80, 2, correlation = 'pos')\n",
    "m,b = best_fit_slope_int(xs, ys)\n",
    "\n",
    "print(m)#best fit slope\n",
    "\n",
    "print(b) #best fit line\n",
    "\n",
    "regression_line = [m*x + b for x in xs]\n",
    "\n",
    "# two plots one scatter for the points and\n",
    "#one line for the regression line y predicted points\n",
    "plt.scatter(xs, ys)\n",
    "plt.plot(xs, regression_line)\n",
    "plt.show()\n",
    "r_squared = coefficientOfDetermination(ys, regression_line )\n",
    "r_squared"
   ]
  }
 ],
 "metadata": {
  "kernelspec": {
   "display_name": "Python 3",
   "language": "python",
   "name": "python3"
  },
  "language_info": {
   "codemirror_mode": {
    "name": "ipython",
    "version": 3
   },
   "file_extension": ".py",
   "mimetype": "text/x-python",
   "name": "python",
   "nbconvert_exporter": "python",
   "pygments_lexer": "ipython3",
   "version": "3.7.3"
  }
 },
 "nbformat": 4,
 "nbformat_minor": 2
}
